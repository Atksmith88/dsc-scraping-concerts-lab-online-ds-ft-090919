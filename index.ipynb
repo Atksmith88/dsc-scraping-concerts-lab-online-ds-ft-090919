{
 "cells": [
  {
   "cell_type": "markdown",
   "metadata": {},
   "source": [
    "# Scraping Concerts - Lab\n",
    "\n",
    "## Introduction\n",
    "\n",
    "Now that you've seen how to scrape a simple website, it's time to again practice those skills on a full-fledged site!\n",
    "In this lab, you'll practice your scraping skills on a music website: https://www.residentadvisor.net.\n",
    "## Objectives\n",
    "\n",
    "You will be able to:\n",
    "* Scrape events from a website\n",
    "* Follow links to those events to retrieve further information\n",
    "* Clean and store scraped data"
   ]
  },
  {
   "cell_type": "markdown",
   "metadata": {},
   "source": [
    "## View the Website\n",
    "\n",
    "For this lab, you'll be scraping the https://www.residentadvisor.net website. Start by navigating to the events page [here](https://www.residentadvisor.net/events) in your browser.\n",
    "\n",
    "<img src=\"images/ra.png\">"
   ]
  },
  {
   "cell_type": "code",
   "execution_count": null,
   "metadata": {},
   "outputs": [],
   "source": [
    "#Load the https://www.residentadvisor.net/events page in your browser."
   ]
  },
  {
   "cell_type": "markdown",
   "metadata": {},
   "source": [
    "## Open the Inspect Element Feature\n",
    "\n",
    "Next, open the inspect element feature from your web browser in order to preview the underlying HTML associated with the page."
   ]
  },
  {
   "cell_type": "code",
   "execution_count": null,
   "metadata": {},
   "outputs": [],
   "source": [
    "#Open the inspect element feature in your browser"
   ]
  },
  {
   "cell_type": "markdown",
   "metadata": {},
   "source": [
    "## Write a Function to Scrape all of the Events on the Given Page Events Page\n",
    "\n",
    "The function should return a Pandas DataFrame with columns for the Event_Name, Venue, Event_Date and Number_of_Attendees."
   ]
  },
  {
   "cell_type": "code",
   "execution_count": 1,
   "metadata": {},
   "outputs": [],
   "source": [
    "import re\n",
    "import numpy as np\n",
    "import pandas as pd\n",
    "import requests\n",
    "from bs4 import BeautifulSoup\n",
    "import time"
   ]
  },
  {
   "cell_type": "code",
   "execution_count": 21,
   "metadata": {},
   "outputs": [],
   "source": [
    "response = requests.get('https://www.residentadvisor.net/events/us/texas')\n",
    "soup = BeautifulSoup(response.content, 'html.parser')"
   ]
  },
  {
   "cell_type": "code",
   "execution_count": 22,
   "metadata": {},
   "outputs": [],
   "source": [
    "event_listings = soup.find('div', id = 'event-listing')"
   ]
  },
  {
   "cell_type": "code",
   "execution_count": 23,
   "metadata": {},
   "outputs": [
    {
     "name": "stdout",
     "output_type": "stream",
     "text": [
      "24 <li><p class=\"eventDate date\"><a href=\"/events.aspx?ai=318&amp;v=day&amp;mn=10&amp;yr=2019&amp;dy=8\"><span>Tue, 08 Oct 2019 /</span></a></p></li>\n"
     ]
    }
   ],
   "source": [
    "entries = event_listings.findAll('li')\n",
    "print(len(entries), entries[0])"
   ]
  },
  {
   "cell_type": "code",
   "execution_count": 24,
   "metadata": {},
   "outputs": [
    {
     "data": {
      "text/html": [
       "<div>\n",
       "<style scoped>\n",
       "    .dataframe tbody tr th:only-of-type {\n",
       "        vertical-align: middle;\n",
       "    }\n",
       "\n",
       "    .dataframe tbody tr th {\n",
       "        vertical-align: top;\n",
       "    }\n",
       "\n",
       "    .dataframe thead th {\n",
       "        text-align: right;\n",
       "    }\n",
       "</style>\n",
       "<table border=\"1\" class=\"dataframe\">\n",
       "  <thead>\n",
       "    <tr style=\"text-align: right;\">\n",
       "      <th></th>\n",
       "      <th>Event_Name</th>\n",
       "      <th>Venue</th>\n",
       "      <th>Event_Date</th>\n",
       "      <th>Number_of_Attendees</th>\n",
       "    </tr>\n",
       "  </thead>\n",
       "  <tbody>\n",
       "    <tr>\n",
       "      <th>0</th>\n",
       "      <td>Underground Tuesdays feat. Iwonder, Lowtide, D...</td>\n",
       "      <td>Empire Control Room &amp; Garage, Austin</td>\n",
       "      <td>Tue, 08 Oct 2019 /</td>\n",
       "      <td>NaN</td>\n",
       "    </tr>\n",
       "    <tr>\n",
       "      <th>1</th>\n",
       "      <td>Ayokay 10/9</td>\n",
       "      <td>The Parish, Austin</td>\n",
       "      <td>Wed, 09 Oct 2019 /</td>\n",
       "      <td>3.0</td>\n",
       "    </tr>\n",
       "    <tr>\n",
       "      <th>2</th>\n",
       "      <td>Steady Rhythm 8 Year Anniversary</td>\n",
       "      <td>Plush ATX, Austin</td>\n",
       "      <td>Wed, 09 Oct 2019 /</td>\n",
       "      <td>2.0</td>\n",
       "    </tr>\n",
       "    <tr>\n",
       "      <th>3</th>\n",
       "      <td>Flamingosis + Boombaptist Official 2019 ACL Fe...</td>\n",
       "      <td>The Parish, Austin</td>\n",
       "      <td>Thu, 10 Oct 2019 /</td>\n",
       "      <td>4.0</td>\n",
       "    </tr>\n",
       "    <tr>\n",
       "      <th>4</th>\n",
       "      <td>Kinda Super Disco - Hot Since 82</td>\n",
       "      <td>Ayva Center, Houston</td>\n",
       "      <td>Fri, 11 Oct 2019 /</td>\n",
       "      <td>14.0</td>\n",
       "    </tr>\n",
       "  </tbody>\n",
       "</table>\n",
       "</div>"
      ],
      "text/plain": [
       "                                          Event_Name  \\\n",
       "0  Underground Tuesdays feat. Iwonder, Lowtide, D...   \n",
       "1                                        Ayokay 10/9   \n",
       "2                   Steady Rhythm 8 Year Anniversary   \n",
       "3  Flamingosis + Boombaptist Official 2019 ACL Fe...   \n",
       "4                   Kinda Super Disco - Hot Since 82   \n",
       "\n",
       "                                  Venue          Event_Date  \\\n",
       "0  Empire Control Room & Garage, Austin  Tue, 08 Oct 2019 /   \n",
       "1                    The Parish, Austin  Wed, 09 Oct 2019 /   \n",
       "2                     Plush ATX, Austin  Wed, 09 Oct 2019 /   \n",
       "3                    The Parish, Austin  Thu, 10 Oct 2019 /   \n",
       "4                  Ayva Center, Houston  Fri, 11 Oct 2019 /   \n",
       "\n",
       "   Number_of_Attendees  \n",
       "0                  NaN  \n",
       "1                  3.0  \n",
       "2                  2.0  \n",
       "3                  4.0  \n",
       "4                 14.0  "
      ]
     },
     "execution_count": 24,
     "metadata": {},
     "output_type": "execute_result"
    }
   ],
   "source": [
    "rows = []\n",
    "for entry in entries:\n",
    "    date = entry.find('p', class_=\"eventDate date\")\n",
    "    event = entry.find('h1', class_=\"event-title\")\n",
    "    if event:\n",
    "        details = event.text.split(' at ')\n",
    "        event_name = details[0].strip()\n",
    "        venue = details[1].strip()\n",
    "        try:\n",
    "            n_attendees = int(re.match(\"(\\d*)\", entry.find('p', class_=\"attending\").text)[0])\n",
    "        except:\n",
    "            n_attendees = np.nan\n",
    "        rows.append([event_name, venue, cur_date, n_attendees])\n",
    "    elif date:\n",
    "        cur_date = date.text\n",
    "    else:\n",
    "        continue\n",
    "df = pd.DataFrame(rows)\n",
    "df.columns = ['Event_Name', 'Venue', 'Event_Date', 'Number_of_Attendees']\n",
    "df.head()"
   ]
  },
  {
   "cell_type": "code",
   "execution_count": 25,
   "metadata": {},
   "outputs": [],
   "source": [
    "def scrape_events(events_page_url):\n",
    "    response = requests.get(events_page_url)\n",
    "    soup = BeautifulSoup(response.content, 'html.parser')\n",
    "    event_listings = soup.find('div', id = 'event-listing')\n",
    "    entries = event_listings.findAll('li')\n",
    "    rows = []\n",
    "    for entry in entries:\n",
    "        #Is it a date? If so, set current date.\n",
    "        date = entry.find('p', class_=\"eventDate date\")\n",
    "        event = entry.find('h1', class_=\"event-title\")\n",
    "        if event:\n",
    "            details = event.text.split(' at ')\n",
    "            event_name = details[0].strip()\n",
    "            venue = details[1].strip()\n",
    "            try:\n",
    "                n_attendees = int(re.match(\"(\\d*)\", entry.find('p', class_=\"attending\").text)[0])\n",
    "            except:\n",
    "                n_attendees = np.nan\n",
    "            rows.append([event_name, venue, cur_date, n_attendees])\n",
    "        elif date:\n",
    "            cur_date = date.text\n",
    "        else:\n",
    "            continue\n",
    "    df = pd.DataFrame(rows)\n",
    "    df.columns = [\"Event_Name\", \"Venue\", \"Event_Date\", \"Number_of_Attendees\"]\n",
    "    return df"
   ]
  },
  {
   "cell_type": "code",
   "execution_count": 33,
   "metadata": {},
   "outputs": [
    {
     "data": {
      "text/html": [
       "<div>\n",
       "<style scoped>\n",
       "    .dataframe tbody tr th:only-of-type {\n",
       "        vertical-align: middle;\n",
       "    }\n",
       "\n",
       "    .dataframe tbody tr th {\n",
       "        vertical-align: top;\n",
       "    }\n",
       "\n",
       "    .dataframe thead th {\n",
       "        text-align: right;\n",
       "    }\n",
       "</style>\n",
       "<table border=\"1\" class=\"dataframe\">\n",
       "  <thead>\n",
       "    <tr style=\"text-align: right;\">\n",
       "      <th></th>\n",
       "      <th>Event_Name</th>\n",
       "      <th>Venue</th>\n",
       "      <th>Event_Date</th>\n",
       "      <th>Number_of_Attendees</th>\n",
       "    </tr>\n",
       "  </thead>\n",
       "  <tbody>\n",
       "    <tr>\n",
       "      <th>0</th>\n",
       "      <td>Underground Tuesdays feat. Iwonder, Lowtide, D...</td>\n",
       "      <td>Empire Control Room &amp; Garage, Austin</td>\n",
       "      <td>Tue, 08 Oct 2019 /</td>\n",
       "      <td>NaN</td>\n",
       "    </tr>\n",
       "    <tr>\n",
       "      <th>1</th>\n",
       "      <td>Ayokay 10/9</td>\n",
       "      <td>The Parish, Austin</td>\n",
       "      <td>Wed, 09 Oct 2019 /</td>\n",
       "      <td>3.0</td>\n",
       "    </tr>\n",
       "    <tr>\n",
       "      <th>2</th>\n",
       "      <td>Steady Rhythm 8 Year Anniversary</td>\n",
       "      <td>Plush ATX, Austin</td>\n",
       "      <td>Wed, 09 Oct 2019 /</td>\n",
       "      <td>2.0</td>\n",
       "    </tr>\n",
       "    <tr>\n",
       "      <th>3</th>\n",
       "      <td>Flamingosis + Boombaptist Official 2019 ACL Fe...</td>\n",
       "      <td>The Parish, Austin</td>\n",
       "      <td>Thu, 10 Oct 2019 /</td>\n",
       "      <td>4.0</td>\n",
       "    </tr>\n",
       "    <tr>\n",
       "      <th>4</th>\n",
       "      <td>Kinda Super Disco - Hot Since 82</td>\n",
       "      <td>Ayva Center, Houston</td>\n",
       "      <td>Fri, 11 Oct 2019 /</td>\n",
       "      <td>14.0</td>\n",
       "    </tr>\n",
       "  </tbody>\n",
       "</table>\n",
       "</div>"
      ],
      "text/plain": [
       "                                          Event_Name  \\\n",
       "0  Underground Tuesdays feat. Iwonder, Lowtide, D...   \n",
       "1                                        Ayokay 10/9   \n",
       "2                   Steady Rhythm 8 Year Anniversary   \n",
       "3  Flamingosis + Boombaptist Official 2019 ACL Fe...   \n",
       "4                   Kinda Super Disco - Hot Since 82   \n",
       "\n",
       "                                  Venue          Event_Date  \\\n",
       "0  Empire Control Room & Garage, Austin  Tue, 08 Oct 2019 /   \n",
       "1                    The Parish, Austin  Wed, 09 Oct 2019 /   \n",
       "2                     Plush ATX, Austin  Wed, 09 Oct 2019 /   \n",
       "3                    The Parish, Austin  Thu, 10 Oct 2019 /   \n",
       "4                  Ayva Center, Houston  Fri, 11 Oct 2019 /   \n",
       "\n",
       "   Number_of_Attendees  \n",
       "0                  NaN  \n",
       "1                  3.0  \n",
       "2                  2.0  \n",
       "3                  4.0  \n",
       "4                 14.0  "
      ]
     },
     "execution_count": 33,
     "metadata": {},
     "output_type": "execute_result"
    }
   ],
   "source": [
    "df = scrape_events('https://www.residentadvisor.net/events/us/texas')\n",
    "df.head()"
   ]
  },
  {
   "cell_type": "markdown",
   "metadata": {},
   "source": [
    "## Write a Function to Retrieve the URL for the Next Page"
   ]
  },
  {
   "cell_type": "code",
   "execution_count": 26,
   "metadata": {},
   "outputs": [
    {
     "data": {
      "text/plain": [
       "'/events/us/texas/week/2019-10-14'"
      ]
     },
     "execution_count": 26,
     "metadata": {},
     "output_type": "execute_result"
    }
   ],
   "source": [
    "soup.find('a', attrs = {'ga-event-action': 'Next '}).attrs['href']"
   ]
  },
  {
   "cell_type": "code",
   "execution_count": 27,
   "metadata": {},
   "outputs": [],
   "source": [
    "def next_page(url):\n",
    "    response = requests.get(url)\n",
    "    soup = BeautifulSoup(response.content, 'html.parser')\n",
    "    url_ext = soup.find('a', attrs={'ga-event-action':\"Next \"}).attrs['href']\n",
    "    next_page_url = \"https://www.residentadvisor.net\" + url_ext\n",
    "    return next_page_url"
   ]
  },
  {
   "cell_type": "code",
   "execution_count": 31,
   "metadata": {},
   "outputs": [
    {
     "data": {
      "text/plain": [
       "'https://www.residentadvisor.net/events/us/texas/week/2019-10-14'"
      ]
     },
     "execution_count": 31,
     "metadata": {},
     "output_type": "execute_result"
    }
   ],
   "source": [
    "next_page('https://www.residentadvisor.net/events/us/texas')"
   ]
  },
  {
   "cell_type": "markdown",
   "metadata": {},
   "source": [
    "## Scrape the Next 1000 Events for Your Area\n",
    "\n",
    "Display the data sorted by the number of attendees. If there is a tie for the number attending, sort by event date."
   ]
  },
  {
   "cell_type": "code",
   "execution_count": 41,
   "metadata": {},
   "outputs": [
    {
     "name": "stdout",
     "output_type": "stream",
     "text": [
      "65\n"
     ]
    },
    {
     "data": {
      "text/html": [
       "<div>\n",
       "<style scoped>\n",
       "    .dataframe tbody tr th:only-of-type {\n",
       "        vertical-align: middle;\n",
       "    }\n",
       "\n",
       "    .dataframe tbody tr th {\n",
       "        vertical-align: top;\n",
       "    }\n",
       "\n",
       "    .dataframe thead th {\n",
       "        text-align: right;\n",
       "    }\n",
       "</style>\n",
       "<table border=\"1\" class=\"dataframe\">\n",
       "  <thead>\n",
       "    <tr style=\"text-align: right;\">\n",
       "      <th></th>\n",
       "      <th>Event_Name</th>\n",
       "      <th>Venue</th>\n",
       "      <th>Event_Date</th>\n",
       "      <th>Number_of_Attendees</th>\n",
       "    </tr>\n",
       "  </thead>\n",
       "  <tbody>\n",
       "    <tr>\n",
       "      <th>0</th>\n",
       "      <td>Underground Tuesdays feat. Iwonder, Lowtide, D...</td>\n",
       "      <td>Empire Control Room &amp; Garage, Austin</td>\n",
       "      <td>Tue, 08 Oct 2019 /</td>\n",
       "      <td>NaN</td>\n",
       "    </tr>\n",
       "    <tr>\n",
       "      <th>1</th>\n",
       "      <td>Ayokay 10/9</td>\n",
       "      <td>The Parish, Austin</td>\n",
       "      <td>Wed, 09 Oct 2019 /</td>\n",
       "      <td>3.0</td>\n",
       "    </tr>\n",
       "    <tr>\n",
       "      <th>2</th>\n",
       "      <td>Steady Rhythm 8 Year Anniversary</td>\n",
       "      <td>Plush ATX, Austin</td>\n",
       "      <td>Wed, 09 Oct 2019 /</td>\n",
       "      <td>2.0</td>\n",
       "    </tr>\n",
       "    <tr>\n",
       "      <th>3</th>\n",
       "      <td>Flamingosis + Boombaptist Official 2019 ACL Fe...</td>\n",
       "      <td>The Parish, Austin</td>\n",
       "      <td>Thu, 10 Oct 2019 /</td>\n",
       "      <td>4.0</td>\n",
       "    </tr>\n",
       "    <tr>\n",
       "      <th>4</th>\n",
       "      <td>Kinda Super Disco - Hot Since 82</td>\n",
       "      <td>Ayva Center, Houston</td>\n",
       "      <td>Fri, 11 Oct 2019 /</td>\n",
       "      <td>14.0</td>\n",
       "    </tr>\n",
       "  </tbody>\n",
       "</table>\n",
       "</div>"
      ],
      "text/plain": [
       "                                          Event_Name  \\\n",
       "0  Underground Tuesdays feat. Iwonder, Lowtide, D...   \n",
       "1                                        Ayokay 10/9   \n",
       "2                   Steady Rhythm 8 Year Anniversary   \n",
       "3  Flamingosis + Boombaptist Official 2019 ACL Fe...   \n",
       "4                   Kinda Super Disco - Hot Since 82   \n",
       "\n",
       "                                  Venue          Event_Date  \\\n",
       "0  Empire Control Room & Garage, Austin  Tue, 08 Oct 2019 /   \n",
       "1                    The Parish, Austin  Wed, 09 Oct 2019 /   \n",
       "2                     Plush ATX, Austin  Wed, 09 Oct 2019 /   \n",
       "3                    The Parish, Austin  Thu, 10 Oct 2019 /   \n",
       "4                  Ayva Center, Houston  Fri, 11 Oct 2019 /   \n",
       "\n",
       "   Number_of_Attendees  \n",
       "0                  NaN  \n",
       "1                  3.0  \n",
       "2                  2.0  \n",
       "3                  4.0  \n",
       "4                 14.0  "
      ]
     },
     "execution_count": 41,
     "metadata": {},
     "output_type": "execute_result"
    }
   ],
   "source": [
    "dfs = []\n",
    "total_rows = 0\n",
    "cur_url = \"https://www.residentadvisor.net/events/us/texas\"\n",
    "while total_rows <= 63:\n",
    "    df = scrape_events(cur_url)\n",
    "    dfs.append(df)\n",
    "    total_rows += len(df)\n",
    "    cur_url = next_page(cur_url)\n",
    "    time.sleep(.2)\n",
    "df = pd.concat(dfs)\n",
    "df = df.iloc[:1000]\n",
    "print(len(df))\n",
    "df.head()"
   ]
  },
  {
   "cell_type": "markdown",
   "metadata": {},
   "source": [
    "### Note:\n",
    "Texas' page does not go beyond the 65th event currently, I assume due to Christmas weeks being empty."
   ]
  },
  {
   "cell_type": "markdown",
   "metadata": {},
   "source": [
    "## Summary \n",
    "\n",
    "Congratulations! In this lab, you successfully scraped a website for concert event information!"
   ]
  }
 ],
 "metadata": {
  "kernelspec": {
   "display_name": "Python 3",
   "language": "python",
   "name": "python3"
  },
  "language_info": {
   "codemirror_mode": {
    "name": "ipython",
    "version": 3
   },
   "file_extension": ".py",
   "mimetype": "text/x-python",
   "name": "python",
   "nbconvert_exporter": "python",
   "pygments_lexer": "ipython3",
   "version": "3.6.6"
  }
 },
 "nbformat": 4,
 "nbformat_minor": 2
}
